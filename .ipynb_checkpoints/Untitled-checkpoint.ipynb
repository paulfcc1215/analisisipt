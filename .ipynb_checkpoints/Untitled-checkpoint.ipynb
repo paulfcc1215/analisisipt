{
 "cells": [
  {
   "cell_type": "code",
   "execution_count": null,
   "id": "be1dee3c-2cf3-4d3d-9814-d45bb7344288",
   "metadata": {},
   "outputs": [],
   "source": [
    "import pandas as pd\n",
    "import matplotlib.pyplot as plt\n",
    "datos = pd.read_csv(\"data/ipt_2016_2021_2.csv\",delimiter=\";\",index_col='PERIODO',parse_dates=True)"
   ]
  },
  {
   "cell_type": "code",
   "execution_count": null,
   "id": "6dca9af3-6176-446f-bf41-93f24271f2b5",
   "metadata": {},
   "outputs": [],
   "source": [
    "datos['PERIODO'] = pd.to_datetime(datos.PERIODO)\n",
    "datos.set_index('PERIODO', inplace=True)\n",
    "datos"
   ]
  },
  {
   "cell_type": "code",
   "execution_count": null,
   "id": "38da5a9c-969c-4858-8565-8e40c4ff67bb",
   "metadata": {},
   "outputs": [],
   "source": [
    "datos['Industrias manufactureras'].plot()"
   ]
  },
  {
   "cell_type": "code",
   "execution_count": null,
   "id": "f8e93a05-39c1-475a-ae50-ba73f8d98255",
   "metadata": {},
   "outputs": [],
   "source": [
    "datos_anual = datos.resample(rule='A').sum()"
   ]
  },
  {
   "cell_type": "code",
   "execution_count": 12,
   "id": "6336d37e-08ad-4efa-952c-206bb6df7d9a",
   "metadata": {},
   "outputs": [
    {
     "data": {
      "text/plain": [
       "<AxesSubplot:xlabel='PERIODO'>"
      ]
     },
     "execution_count": 12,
     "metadata": {},
     "output_type": "execute_result"
    },
    {
     "data": {
      "image/png": "[encoded data removed]",
      "text/plain": [
       "<Figure size 432x288 with 1 Axes>"
      ]
     },
     "metadata": {
      "needs_background": "light"
     },
     "output_type": "display_data"
    }
   ],
   "source": [
    "datos_anual['Industrias manufactureras'].plot()"
   ]
  },
  {
   "cell_type": "code",
   "execution_count": null,
   "id": "29aa4601-098e-4fa9-b4d4-7b75278c48b6",
   "metadata": {},
   "outputs": [],
   "source": [
    "from statsmodels.tsa.arima_model import ARIMA\n",
    "modelo = ARIMA(datos['Industrias manufactureras'], order=(1,1,1))\n",
    "res = modelo.fit()\n",
    "fig = res.plot_predict(start='2016-01-01',end='2021-12-01')\n",
    "fig.show()"
   ]
  },
  {
   "cell_type": "code",
   "execution_count": null,
   "id": "476f1837-8735-4429-82b4-bcaf933cb569",
   "metadata": {},
   "outputs": [],
   "source": []
  }
 ],
 "metadata": {
  "kernelspec": {
   "display_name": "Python 3",
   "language": "python",
   "name": "python3"
  },
  "language_info": {
   "codemirror_mode": {
    "name": "ipython",
    "version": 3
   },
   "file_extension": ".py",
   "mimetype": "text/x-python",
   "name": "python",
   "nbconvert_exporter": "python",
   "pygments_lexer": "ipython3",
   "version": "3.9.5"
  }
 },
 "nbformat": 4,
 "nbformat_minor": 5
}
